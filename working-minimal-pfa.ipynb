{
 "cells": [
  {
   "cell_type": "code",
   "execution_count": null,
   "metadata": {
    "collapsed": true
   },
   "outputs": [],
   "source": [
    "import numpy as np\n",
    "import matplotlib.pyplot as plt\n",
    "\n",
    "from astropy.io.votable import parse\n",
    "from astropy.io import ascii\n",
    "from astropy.time import Time\n",
    "\n",
    "import timeit\n",
    "\n",
    "# Take MJD 54192 as the beginning of the transit (BoT):\n",
    "BoT_mjd = 54192"
   ]
  },
  {
   "cell_type": "code",
   "execution_count": null,
   "metadata": {
    "collapsed": true
   },
   "outputs": [],
   "source": [
    "# Path of this file\n",
    "# provide the directory of this file\n",
    "folder = 'C:/Users/Jemandes/Documents/Dropbox/J1407_eigen/Paper/github/mentel-et-al-2018/' "
   ]
  },
  {
   "cell_type": "code",
   "execution_count": null,
   "metadata": {
    "collapsed": true
   },
   "outputs": [],
   "source": [
    "# For the actual period folding, we will take the beginning of the 2007 transit as the beginning of the phase\n",
    "# Thus, the beginning of the first window, BoT_mjd, is taken as the phase phi = 0\n",
    "\n",
    "# First, define beginning and end of the three windows corresponding to the three major dimming events\n",
    "# These params has been deduced from the SuperWASP-data on the 2007 transit (see Mamajek et. al., 2012)\n",
    "t0 = 0 # First Dimming: 0-4 days since beginning of transit\n",
    "t1 = 4 \n",
    "\n",
    "t2 = 12 # Big, central Dimming: 12-42 days\n",
    "t3 = 42\n",
    "\n",
    "t4 = 48 # Third Dimming: 48-52 days\n",
    "t5 = 52\n",
    "\n",
    "# The heart of the PFA\n",
    "# \"counting_points\" takes the data as \"Light\" and a test period \"Period\"\n",
    "#  and, after folding \"Light\" into the period \"Period, gives out the number of observations\n",
    "#  that are laocated in any of the three windows\n",
    "# Input: Light is array with data: col 0 = MJD of observation, col 1 = free\n",
    "def counting_points(Light, Period):\n",
    "    for i, Entry in enumerate(Light): # For every observation ...\n",
    "        Light[i,1] = np.remainder(Entry[0]-(BoT_mjd), Period*365.25) # Calc phase...\n",
    "\n",
    "    Count = sum(1 for j in Light if (t0<j[1]<t1) | (t2<j[1]<t3) | (t4<j[1]<t5)) # Calc Number of obs' in any of the threee windows\n",
    "    return (Count) # return the number of observations in those windows"
   ]
  },
  {
   "cell_type": "code",
   "execution_count": null,
   "metadata": {
    "collapsed": true
   },
   "outputs": [],
   "source": [
    "### Read in data\n",
    "# PFA only works when column \"0\" = MJD, column \"1\" should be free\n",
    "\n",
    "# For demonstrative purposes, we only use the AAVSO data\n",
    "\n",
    "file = folder + 'photometry/SuperWASP/1SWASP_J140747.93-394542.6_lc.txt' # Place the data file here\n",
    "body = open(file, 'r').readlines()[22:] # Skip header\n",
    "lc_A = np.zeros((len(body), 2))\n",
    "\n",
    "# Make lightcurve of AAVSO\n",
    "for (i, entry) in enumerate(body):\n",
    "    words = entry.split()\n",
    "    t = Time(float(words[0]), format='jd', scale='utc')\n",
    "    lc_A[i,0] = t.mjd\n",
    "\n",
    "print (\"Data from AAVSO : \" + str(len(lc_A)))"
   ]
  },
  {
   "cell_type": "code",
   "execution_count": null,
   "metadata": {
    "collapsed": true
   },
   "outputs": [],
   "source": [
    "### Actual Period Search\n",
    "# Warning: This will take some time depending on \"s\" and length of data!\n",
    "# With the entire photometry on J1407 and 10k steps per year, runtime is about 11.5 hours\n",
    "\n",
    "start_time = timeit.default_timer() # For calc runtime\n",
    "p0 = 300.      # Start period\n",
    "del_p = 15000.  # tested range\n",
    "\n",
    "# Step size in decimal years. Uncomment desired\n",
    "#s = 0.01     # 0.1k steps per year (fastest)\n",
    "s = 10.   # 10k steps (most precise)\n",
    "\n",
    "# Calc number of observations in the original transit,\n",
    "#  since the PFA also counts the observations of the transit on 2007.\n",
    "# Not really necessary with only plate or AAVSO data\n",
    "\n",
    "# \"source\" is the used lightcurve\n",
    "source = lc_A\n",
    "count_transit = counting_points(source, 2000*365.24)\n",
    "#print (original) # For Sanity Check\n",
    "\n",
    "# Define array for result of PF\n",
    "#  col \"0\" = test period, col \"1\" = counted number of ob's in windows\n",
    "num_of_obs = np.zeros((del_p/s,2))\n",
    "\n",
    "# Run actual PFA\n",
    "for i in range(int(del_p/s)):\n",
    "    # For all test periods ...\n",
    "    p = p0 + s*i\n",
    "    num_of_obs[i,0] = p\n",
    "    # ... Calc number of ob's in any of these three windows minus transit ob's:\n",
    "    num_of_obs[i,1] = counting_points(source, p) - count_transit\n",
    "\n",
    "runtime = timeit.default_timer() - start_time\n",
    "print(\"Runtime of PFA:  %s seconds \" % (runtime))\n",
    "\n",
    "# \"possible\" is list with all the possible periods,\n",
    "#  i.e. all test periods where not a single observation is present in any of the three windows\n",
    "possible = num_of_obs[num_of_obs[:,1]<1.][:,0]\n",
    "# print (possible)"
   ]
  },
  {
   "cell_type": "code",
   "execution_count": null,
   "metadata": {
    "collapsed": true
   },
   "outputs": [],
   "source": [
    "### For Documentation:\n",
    "# Print \"possible\" and expected time of next transit\n",
    "\n",
    "file_name = \"new_periods.txt\"\n",
    "file = open(folder + file_name, 'w')\n",
    "file.write('Possible periods | Expected beginning of next transit' + '\\n')\n",
    "for period in possible:\n",
    "    ingress = Time(period + BoT_decyear, format='decimalyear', scale='utc').decimalyear\n",
    "    file.write(str(period) + ', ' + str(ingress) + '\\n')"
   ]
  },
  {
   "cell_type": "code",
   "execution_count": null,
   "metadata": {
    "collapsed": true
   },
   "outputs": [],
   "source": [
    "### Plot the results\n",
    "\n",
    "# For probability histogram\n",
    "plt.hist(possible, bins=[365.24*x for x in range(15)], normed=1)\n",
    "plt.xlabel(\"Orbital Period [Year]\")\n",
    "plt.ylabel(\"Probability of possible periods per year\")\n",
    "plt.show()\n",
    "plt.close()"
   ]
  }
 ],
 "metadata": {
  "anaconda-cloud": {},
  "kernelspec": {
   "display_name": "Python [conda root]",
   "language": "python",
   "name": "conda-root-py"
  },
  "language_info": {
   "codemirror_mode": {
    "name": "ipython",
    "version": 3
   },
   "file_extension": ".py",
   "mimetype": "text/x-python",
   "name": "python",
   "nbconvert_exporter": "python",
   "pygments_lexer": "ipython3",
   "version": "3.5.2"
  }
 },
 "nbformat": 4,
 "nbformat_minor": 1
}
