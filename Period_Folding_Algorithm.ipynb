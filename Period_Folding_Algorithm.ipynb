{
 "cells": [
  {
   "cell_type": "code",
   "execution_count": 1,
   "metadata": {
    "collapsed": true
   },
   "outputs": [],
   "source": [
    "import numpy as np\n",
    "import os\n",
    "import matplotlib.pyplot as plt\n",
    "from astropy.time import Time\n",
    "\n",
    "# Take MJD 54195 as the Beginning of Transit (BoT):\n",
    "BoT_mjd = 54195\n",
    "# ... in decimalyear:\n",
    "BoT_decyear = 2007.2589"
   ]
  },
  {
   "cell_type": "code",
   "execution_count": 2,
   "metadata": {
    "collapsed": true
   },
   "outputs": [],
   "source": [
    "# For the actual period folding, we will take the beginning of the 2007 transit as the beginning of the phase\n",
    "# Thus, the beginning of the first window, BoT_mjd, is taken as the phase phi = 0\n",
    "\n",
    "# First, define beginning and end of the three windows corresponding to the three major dimming events\n",
    "# These params has been deduced from the SuperWASP-data on the 2007 transit (see Mamajek et. al., 2012)\n",
    "t0 = 0 # First Dimming: 0-4 days since beginning of transit\n",
    "t1 = 4 \n",
    "\n",
    "t2 = 12 # Big, central Dimming: 12-42 days\n",
    "t3 = 42\n",
    "\n",
    "t4 = 48 # Third Dimming: 48-52 days\n",
    "t5 = 52\n",
    "\n",
    "# The heart of the PFA\n",
    "# counting_points takes the data as \"Light\" and a test period \"Period\"\n",
    "#  and, after folding \"Light\" into the period \"Period, gives out the number of observations\n",
    "#  that are laocated in any of the three windows\n",
    "# Input: Light is array with data: col 0 = MJD of observation, col 1 = free\n",
    "def counting_points(Light, Period):\n",
    "    for i, Entry in enumerate(Light): # For every observation ...\n",
    "        Light[i,1] = np.remainder(Entry[0]-(BoT_mjd), Period*365.24) # Calc phase...\n",
    "\n",
    "    observations = sum(1 for j in Light if (t0<j[1]<t1) | (t2<j[1]<t3) | (t4<j[1]<t5)) # Calc Number of obs' in any of the threee windows\n",
    "    return (observations) # return the number of observations in those windows"
   ]
  },
  {
   "cell_type": "code",
   "execution_count": 5,
   "metadata": {},
   "outputs": [
    {
     "name": "stdout",
     "output_type": "stream",
     "text": [
      "Data from AAVSO on J1407 : 4342\n"
     ]
    }
   ],
   "source": [
    "### Read in data\n",
    "# Caution: PFA only works when column \"0\" = MJD, column \"1\" should be free\n",
    "\n",
    "### Read in data\n",
    "# Caution: PFA only works when column \"0\" = MJD\n",
    "# For demonstrative purposes, we here set up the AAVSO data\n",
    "folder = os.getcwd()\n",
    "data = open(folder + \"/aavsodata_J_2017_11_11.txt\", 'r').readlines()[1:] # Skip header\n",
    "lc_A = np.zeros((len(data), 2))\n",
    "print (\"Data from AAVSO on J1407 : \" + str(len(lc_A)))\n",
    "\n",
    "# Make lightcurve of AAVSO\n",
    "for (i, entry) in enumerate(data):\n",
    "    words = entry.split()\n",
    "    t = Time(float(words[0]), format='jd', scale='utc')\n",
    "    lc_A[i,0] = t.mjd\n",
    "\n",
    "# Make final lightcurve with more than one sources\n",
    "# When just used with AAVSO, ignore this paragraph\n",
    "lightcurve = np.zeros((len(lc_A), 2))\n",
    "j = 0\n",
    "for array in [lc_A]:\n",
    "    for entry in array:\n",
    "        lightcurve[j, 0] = entry[0]\n",
    "        j=j+1"
   ]
  },
  {
   "cell_type": "code",
   "execution_count": 11,
   "metadata": {},
   "outputs": [],
   "source": [
    "### Actual Period Search\n",
    "# Warning: This will take some time depending on \"s\" and length of data!\n",
    "# With all data and 10k steps per year, runtime is about 11.5 hours\n",
    "# Though: 0.1k and plate data shows most and is fast\n",
    "\n",
    "p0 = 1.     # Start period\n",
    "p1 = 10.    # End period\n",
    "\n",
    "# Step size in decimal years. Uncomment desired\n",
    "s = 0.01     # 0.1k steps per year (fastest)\n",
    "#s = 0.001    # 1k steps\n",
    "#s = 0.0001   # 10k steps (most precise, longest)\n",
    "\n",
    "# Calc number of observations in the original transit,\n",
    "#  since the PFA also counts the observations of the transit on 2007.\n",
    "# Not necessary with only plateor AAVSO data\n",
    "transit = counting_points(lightcurve, 2000)\n",
    "\n",
    "# Define array for results of PFA\n",
    "#  col \"0\" = respective test period, col \"1\" = counted number of ob's in windows\n",
    "num_of_obs = np.zeros((int((p1-p0)/s),2))\n",
    "\n",
    "# Run actual PFA\n",
    "for i in range(int((p1-p0)/s)):\n",
    "    # For all test periods ...\n",
    "    p = p0+s*i\n",
    "    num_of_obs[i,0] = p\n",
    "    # ... Calc number of ob's in any of these three windows minus transit ob's:\n",
    "    num_of_obs[i,1] = counting_points(lightcurve, p) - transit\n",
    "\n",
    "\n",
    "# \"Zeroes\" is list with all the possible periods,\n",
    "#  i.e. all test periods where not a single observation is present in any of the three windows\n",
    "Zeroes = num_of_obs[num_of_obs[:,1]<1.][:,0]\n",
    "#print (Zeroes)"
   ]
  },
  {
   "cell_type": "code",
   "execution_count": 14,
   "metadata": {},
   "outputs": [
    {
     "data": {
      "image/png": "[encoded data removed]",
      "text/plain": [
       "<matplotlib.figure.Figure at 0x7fcebff8a550>"
      ]
     },
     "metadata": {},
     "output_type": "display_data"
    }
   ],
   "source": [
    "### Plot the results\n",
    "\n",
    "# For normal histogramme\n",
    "plt.hist(Zeroes, bins=[x for x in range(int(p1)+1)], fc=\"k\")\n",
    "plt.xlabel(\"Orbital Period [Year]\")\n",
    "plt.ylabel(\"Fraction of possible periods per year\")\n",
    "#plt.savefig(\"zeroes.pdf\")\n",
    "plt.show()"
   ]
  },
  {
   "cell_type": "code",
   "execution_count": null,
   "metadata": {
    "collapsed": true
   },
   "outputs": [],
   "source": []
  }
 ],
 "metadata": {
  "anaconda-cloud": {},
  "kernelspec": {
   "display_name": "Python 3",
   "language": "python",
   "name": "python3"
  },
  "language_info": {
   "codemirror_mode": {
    "name": "ipython",
    "version": 3
   },
   "file_extension": ".py",
   "mimetype": "text/x-python",
   "name": "python",
   "nbconvert_exporter": "python",
   "pygments_lexer": "ipython3",
   "version": "3.6.3"
  }
 },
 "nbformat": 4,
 "nbformat_minor": 1
}
